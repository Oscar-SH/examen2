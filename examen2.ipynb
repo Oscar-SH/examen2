{
 "cells": [
  {
   "cell_type": "markdown",
   "id": "a87de4c2-dc89-4436-8d84-451f86981d2c",
   "metadata": {},
   "source": [
    "# CORTE 2"
   ]
  },
  {
   "cell_type": "code",
   "execution_count": 1,
   "id": "5b92e599-c132-4656-99d2-7555b82c93af",
   "metadata": {},
   "outputs": [],
   "source": [
    "import time\n",
    "import pandas as pd\n",
    "import matplotlib.pyplot as plt\n",
    "import matplotlib.image as img\n",
    "import requests\n",
    "from urllib.request import urlopen\n",
    "\n",
    "from bs4 import BeautifulSoup\n",
    "from selenium import webdriver"
   ]
  },
  {
   "cell_type": "code",
   "execution_count": 2,
   "id": "7e0b3172-54e7-45cd-84eb-b2f51cfe32da",
   "metadata": {},
   "outputs": [],
   "source": [
    "SITE_URL = 'https://alianzaverde.org.co'"
   ]
  },
  {
   "cell_type": "code",
   "execution_count": 3,
   "id": "0e8f0690-26f2-404b-9d07-1ed44b20939a",
   "metadata": {},
   "outputs": [],
   "source": [
    "DRIVER_PATH = './geckodriver'"
   ]
  },
  {
   "cell_type": "code",
   "execution_count": 4,
   "id": "f428a1b2-a328-472e-bca5-1702d7bf1c7d",
   "metadata": {},
   "outputs": [
    {
     "name": "stderr",
     "output_type": "stream",
     "text": [
      "C:\\Users\\Oscar\\AppData\\Local\\Temp\\ipykernel_15284\\4016513992.py:1: DeprecationWarning: executable_path has been deprecated, please pass in a Service object\n",
      "  browser = webdriver.Firefox(executable_path = DRIVER_PATH)\n"
     ]
    }
   ],
   "source": [
    "browser = webdriver.Firefox(executable_path = DRIVER_PATH)"
   ]
  },
  {
   "cell_type": "code",
   "execution_count": 5,
   "id": "1a9e293b-5b32-4e52-9791-841da07ff7f0",
   "metadata": {},
   "outputs": [],
   "source": [
    "def make_request(browser, relative_path):\n",
    "    # Making the request and rendering the browser\n",
    "    browser.get(SITE_URL + relative_path)\n",
    "    \n",
    "    # Simulating vertical scrolling for handling lazy load\n",
    "    check_height = browser.execute_script('return document.body;')\n",
    "    while True:\n",
    "        browser.execute_script('window.scrollTo(0, document.body);')\n",
    "        time.sleep(3)\n",
    "        height = browser.execute_script('return document.body;')\n",
    "        if height == check_height: \n",
    "            break \n",
    "        check_height = height\n",
    "    \n",
    "    # Getting HTML content and passing it to BeautifulSoup for scraping analysis\n",
    "    return BeautifulSoup(browser.page_source, 'html.parser')"
   ]
  },
  {
   "cell_type": "code",
   "execution_count": 6,
   "id": "c66faf07-a640-4f65-bfc7-d2939141de64",
   "metadata": {},
   "outputs": [],
   "source": [
    "soup = make_request(browser, '/lideres-verdes/congreso-2022/senado-2022')"
   ]
  },
  {
   "cell_type": "code",
   "execution_count": 7,
   "id": "a1dec683-5d58-4f3f-9399-d225d6e6cb10",
   "metadata": {},
   "outputs": [],
   "source": [
    "layout = soup.find(class_ = 'main-body')"
   ]
  },
  {
   "cell_type": "code",
   "execution_count": 8,
   "id": "aa291325-dbfb-4354-99b5-a9476545fcd4",
   "metadata": {},
   "outputs": [
    {
     "name": "stdout",
     "output_type": "stream",
     "text": [
      "12\n"
     ]
    }
   ],
   "source": [
    "blocks = layout.find_all(class_ = 'sppb-section', recursive = True)\n",
    "print(len(blocks))"
   ]
  },
  {
   "cell_type": "code",
   "execution_count": 36,
   "id": "74dc6f2e-cf19-4127-8ced-bdb519e16c1b",
   "metadata": {},
   "outputs": [
    {
     "data": {
      "text/plain": [
       "7"
      ]
     },
     "execution_count": 36,
     "metadata": {},
     "output_type": "execute_result"
    }
   ],
   "source": [
    "cards = blocks[2].find_all(class_ = 'sppb-row') + blocks[3].find_all(class_ = 'sppb-row') + blocks[4].find_all(class_ = 'sppb-row') + blocks[5].find_all(class_ = 'sppb-row') + blocks[6].find_all(class_ = 'sppb-row') + blocks[7].find_all(class_ = 'sppb-row') + blocks[8].find_all(class_ = 'sppb-row')\n",
    "len(cards)"
   ]
  },
  {
   "cell_type": "code",
   "execution_count": 37,
   "id": "8dfcf261-87b0-4f05-be38-1d4f1861ea71",
   "metadata": {},
   "outputs": [
    {
     "data": {
      "text/plain": [
       "28"
      ]
     },
     "execution_count": 37,
     "metadata": {},
     "output_type": "execute_result"
    }
   ],
   "source": [
    "card = cards[0].find_all(class_ = 'sppb-col-md-3') + cards[1].find_all(class_ = 'sppb-col-md-3') + cards[2].find_all(class_ = 'sppb-col-md-3') + cards[3].find_all(class_ = 'sppb-col-md-3') + cards[4].find_all(class_ = 'sppb-col-md-3') + cards[5].find_all(class_ = 'sppb-col-md-3') + cards[6].find_all(class_ = 'sppb-col-md-3')\n",
    "len(card)"
   ]
  },
  {
   "cell_type": "code",
   "execution_count": 41,
   "id": "f491b966-5af5-4f68-a70c-9b389bf5d888",
   "metadata": {},
   "outputs": [
    {
     "ename": "SyntaxError",
     "evalue": "expected 'else' after 'if' expression (457018486.py, line 6)",
     "output_type": "error",
     "traceback": [
      "\u001b[1;36m  Input \u001b[1;32mIn [41]\u001b[1;36m\u001b[0m\n\u001b[1;33m    'redes': person.find('ul', class_= 'sppb-person-social').find_all('a')\u001b[0m\n\u001b[1;37m             ^\u001b[0m\n\u001b[1;31mSyntaxError\u001b[0m\u001b[1;31m:\u001b[0m expected 'else' after 'if' expression\n"
     ]
    }
   ],
   "source": [
    "salida = []\n",
    "for person in card:\n",
    "    salida.append({\n",
    "        'photo': person.find('img', class_ = 'sppb-img-responsive').get('src'),\n",
    "        'description': person.find('span', class_ = 'sppb-person-designation').get_text(),\n",
    "        'redes': person.find('ul', class_= 'sppb-person-social').find_all('a')\n",
    "        if 'redes'== null\n",
    "        print(No tiene redes sociales)\n",
    "    })"
   ]
  },
  {
   "cell_type": "code",
   "execution_count": 39,
   "id": "5bf81ec3-5aa1-47c3-8ba6-9b46aef75935",
   "metadata": {},
   "outputs": [
    {
     "data": {
      "text/plain": [
       "[{'photo': '/images/Candidatos_2022/senado/2.jpg',\n",
       "  'description': 'Abogada y filósofa, con un máster en Ciencias de la Administración Pública, en Alemania. Experta en gestión pública, descentralización, transparencia, buen gobierno, modernización del estado, cultura ciudadana y cooperación internacional, temas en los cuales se ha desempeñado alternativamente como servidora pública, consultora y docente.',\n",
       "  'redes': [<a aria-label=\"Facebook\" href=\"https://twitter.com/VivianaBarbere \" rel=\"noopener noreferrer\" target=\"_blank\"><i aria-hidden=\"true\" class=\"fab fa-facebook-f\" title=\"Facebook\"></i></a>,\n",
       "   <a aria-label=\"Twitter\" href=\"https://twitter.com/VivianaBarbere\" rel=\"noopener noreferrer\" target=\"_blank\"><i aria-hidden=\"true\" class=\"fab fa-twitter\" title=\"Twitter\"></i></a>,\n",
       "   <a aria-label=\"Instagram\" href=\"https://www.instagram.com/barberenaviviana/ \" rel=\"noopener noreferrer\" target=\"_blank\"><i aria-hidden=\"true\" class=\"fab fa-instagram\" title=\"Instagram\"></i></a>]},\n",
       " {'photo': '/images/Candidatos_2022/senado/3.jpg',\n",
       "  'description': 'Nacida de seres excepcionales, en tiempos inciertos; es la mujer de retos resueltos. Desde el inicio de su carrera política, su liderazgo se enfoca en mantener la cultura de la equidad, la familia y el fortalecimiento económico, político y social de las regiones en Colombia',\n",
       "  'redes': [<a aria-label=\"Facebook\" href=\"https://www.facebook.com/sandraortizsenadora\" rel=\"noopener noreferrer\" target=\"_blank\"><i aria-hidden=\"true\" class=\"fab fa-facebook-f\" title=\"Facebook\"></i></a>,\n",
       "   <a aria-label=\"Twitter\" href=\"https://twitter.com/sandraortizn\" rel=\"noopener noreferrer\" target=\"_blank\"><i aria-hidden=\"true\" class=\"fab fa-twitter\" title=\"Twitter\"></i></a>,\n",
       "   <a aria-label=\"YouTube\" href=\"https://www.youtube.com/channel/UCTwjhE_bLZS72l0RqI_u4OQ/featured\" rel=\"noopener noreferrer\" target=\"_blank\"><i aria-hidden=\"true\" class=\"fab fa-youtube\" title=\"YouTube\"></i></a>,\n",
       "   <a aria-label=\"Instagram\" href=\"https://www.instagram.com/sandraortizn\" rel=\"noopener noreferrer\" target=\"_blank\"><i aria-hidden=\"true\" class=\"fab fa-instagram\" title=\"Instagram\"></i></a>]},\n",
       " {'photo': '/images/Candidatos_2022/senado/5.jpg',\n",
       "  'description': 'Destacado Senador de la República en el año 2010 fue disciplinado y estricto en el cumplimiento de su función en la producción legislativa y el ejercicio del control político; en particular, participó de forma definitiva en los Proyectos de Ley y de Acto Legislativo trascendentales para el país.',\n",
       "  'redes': [<a aria-label=\"Facebook\" href=\"https://www.facebook.com/JorgeELondonoU/\" rel=\"noopener noreferrer\" target=\"_blank\"><i aria-hidden=\"true\" class=\"fab fa-facebook-f\" title=\"Facebook\"></i></a>,\n",
       "   <a aria-label=\"Twitter\" href=\"https://twitter.com/JorgeELondonoU\" rel=\"noopener noreferrer\" target=\"_blank\"><i aria-hidden=\"true\" class=\"fab fa-twitter\" title=\"Twitter\"></i></a>,\n",
       "   <a aria-label=\"YouTube\" href=\"https://youtube.com/user/JorgeLondonoUlloa\" rel=\"noopener noreferrer\" target=\"_blank\"><i aria-hidden=\"true\" class=\"fab fa-youtube\" title=\"YouTube\"></i></a>,\n",
       "   <a aria-label=\"Instagram\" href=\"http://instagram.com/jorgeelondonou\" rel=\"noopener noreferrer\" target=\"_blank\"><i aria-hidden=\"true\" class=\"fab fa-instagram\" title=\"Instagram\"></i></a>]},\n",
       " {'photo': '/images/Candidatos_2022/senado/7.jpg',\n",
       "  'description': 'Egresado de la Facultad de Derecho de la Pontificia Universidad Javeriana; fue Diputado a la Asamblea de Cundinamarca, Concejal, Representante a la Cámara por Bogotá y Senador, además de ser fundador del Partido Alianza Verde. Correo de contacto',\n",
       "  'redes': [<a aria-label=\"Facebook\" href=\"https://www.facebook.com/SenadorIvanName \" rel=\"noopener noreferrer\" target=\"_blank\"><i aria-hidden=\"true\" class=\"fab fa-facebook-f\" title=\"Facebook\"></i></a>,\n",
       "   <a aria-label=\"Twitter\" href=\"/ https://twitter.com/IvanNameVasquez \" rel=\"noopener noreferrer\" target=\"_blank\"><i aria-hidden=\"true\" class=\"fab fa-twitter\" title=\"Twitter\"></i></a>,\n",
       "   <a aria-label=\"Instagram\" href=\"https://www.instagram.com/ivannamevasquez/ \" rel=\"noopener noreferrer\" target=\"_blank\"><i aria-hidden=\"true\" class=\"fab fa-instagram\" title=\"Instagram\"></i></a>]},\n",
       " {'photo': '/images/Candidatos_2022/senado/8.jpg',\n",
       "  'description': 'Como congresista pertenece a la Comisión sexta, la comisión de paz y la Comisión de Derechos Humanos. Ha presentado iniciativas para reformar el sistema general de participaciones y la jornada laboral. Ha presentado proyectos de ley que fortalezcan la nutrición saludable, el internet gratuito, el financiamiento a los cuerpos de bomberos, la creación de las provincias, entre otras.',\n",
       "  'redes': [<a aria-label=\"Facebook\" href=\"https://www.facebook.com/Leonfredym\" rel=\"noopener noreferrer\" target=\"_blank\"><i aria-hidden=\"true\" class=\"fab fa-facebook-f\" title=\"Facebook\"></i></a>,\n",
       "   <a aria-label=\"Twitter\" href=\"https://twitter.com/LeonFredyM \" rel=\"noopener noreferrer\" target=\"_blank\"><i aria-hidden=\"true\" class=\"fab fa-twitter\" title=\"Twitter\"></i></a>,\n",
       "   <a aria-label=\"Instagram\" href=\"https://www.instagram.com/leonfredymunozl\" rel=\"noopener noreferrer\" target=\"_blank\"><i aria-hidden=\"true\" class=\"fab fa-instagram\" title=\"Instagram\"></i></a>]},\n",
       " {'photo': '/images/Candidatos_2022/senado/10.jpg',\n",
       "  'description': 'Ciudadana, activista cívica, abogada y Senadora de 2018 a 2022 por el partido Alianza Verde. Representante a la Cámara por Bogotá en 2014 - 2018. Magíster en Gerencia y Práctica del Desarrollo en la Universidad de los Andes y becaria del Instituto Nacional Demócrata (NDI).',\n",
       "  'redes': [<a aria-label=\"Facebook\" href=\"https://www.facebook.com/angelicalozanocorrea/ \" rel=\"noopener noreferrer\" target=\"_blank\"><i aria-hidden=\"true\" class=\"fab fa-facebook-f\" title=\"Facebook\"></i></a>,\n",
       "   <a aria-label=\"Twitter\" href=\"https://twitter.com/AngelicaLozanoC \" rel=\"noopener noreferrer\" target=\"_blank\"><i aria-hidden=\"true\" class=\"fab fa-twitter\" title=\"Twitter\"></i></a>,\n",
       "   <a aria-label=\"YouTube\" href=\"https://www.youtube.com/user/bogotaserespeta\" rel=\"noopener noreferrer\" target=\"_blank\"><i aria-hidden=\"true\" class=\"fab fa-youtube\" title=\"YouTube\"></i></a>,\n",
       "   <a aria-label=\"Instagram\" href=\"https://www.instagram.com/angelicalozano10/\" rel=\"noopener noreferrer\" target=\"_blank\"><i aria-hidden=\"true\" class=\"fab fa-instagram\" title=\"Instagram\"></i></a>]},\n",
       " {'photo': '/images/Candidatos_2022/senado/12.jpg',\n",
       "  'description': 'Nacida en Villa de Leyva Boyacá. Desde su infancia se caracterizó por el amor a su familia, solidaridad y capacidad de asumir retos. Ingeniera Industrial de la Universidad Pedagógica y Tecnológica de Colombia, con una Maestría en en pensamiento estratégico y perspectiva de la Universidad Externado de Colombia.',\n",
       "  'redes': [<a aria-label=\"Facebook\" href=\"/ https://www.facebook.com/karolina.jerez \" rel=\"noopener noreferrer\" target=\"_blank\"><i aria-hidden=\"true\" class=\"fab fa-facebook-f\" title=\"Facebook\"></i></a>,\n",
       "   <a aria-label=\"Twitter\" href=\"https://twitter.com/CaroEspitiaJ \" rel=\"noopener noreferrer\" target=\"_blank\"><i aria-hidden=\"true\" class=\"fab fa-twitter\" title=\"Twitter\"></i></a>,\n",
       "   <a aria-label=\"Instagram\" href=\"https://www.instagram.com/caroespitiaj/ \" rel=\"noopener noreferrer\" target=\"_blank\"><i aria-hidden=\"true\" class=\"fab fa-instagram\" title=\"Instagram\"></i></a>]},\n",
       " {'photo': '/images/Candidatos_2022/senado/14.jpg',\n",
       "  'description': 'Profesora universitaria. Autora de varias publicaciones sobre derechos animales y justicia juvenil restaurativa (Beca de Investigación del Grupo Coímbra. Programa de Becas para Jóvenes Profesores e Investigadores de Universidades de América Latina, 2009). Columnista ocasional de varios medios de comunicación.',\n",
       "  'redes': [<a aria-label=\"Facebook\" href=\"https://www.facebook.com/andreanimalidad\" rel=\"noopener noreferrer\" target=\"_blank\"><i aria-hidden=\"true\" class=\"fab fa-facebook-f\" title=\"Facebook\"></i></a>,\n",
       "   <a aria-label=\"Twitter\" href=\"https://twitter.com/andreanimalidad \" rel=\"noopener noreferrer\" target=\"_blank\"><i aria-hidden=\"true\" class=\"fab fa-twitter\" title=\"Twitter\"></i></a>,\n",
       "   <a aria-label=\"YouTube\" href=\"https://www.youtube.com/channel/UCnJ85DTEYtqUJ1o9wQLsbyA \" rel=\"noopener noreferrer\" target=\"_blank\"><i aria-hidden=\"true\" class=\"fab fa-youtube\" title=\"YouTube\"></i></a>,\n",
       "   <a aria-label=\"Instagram\" href=\"https://www.instagram.com/andreanimalidad\" rel=\"noopener noreferrer\" target=\"_blank\"><i aria-hidden=\"true\" class=\"fab fa-instagram\" title=\"Instagram\"></i></a>]},\n",
       " {'photo': '/images/Candidatos_2022/senado/18.jpg',\n",
       "  'description': 'Magíster en Gestión de la Tecnología Educativa. Ex presidente de Sindimaestros en Boyacá. Ex presidente de FECODE y actualmente Ejecutivo (tesorero)Dirigente estudiantil, sindical, social y político desde hace 32 años.',\n",
       "  'redes': [<a aria-label=\"Facebook\" href=\"https://www.facebook.com/nelson.alarconsuarez.16 \" rel=\"noopener noreferrer\" target=\"_blank\"><i aria-hidden=\"true\" class=\"fab fa-facebook-f\" title=\"Facebook\"></i></a>,\n",
       "   <a aria-label=\"Twitter\" href=\"https://twitter.com/Nelsonalarcon74 \" rel=\"noopener noreferrer\" target=\"_blank\"><i aria-hidden=\"true\" class=\"fab fa-twitter\" title=\"Twitter\"></i></a>,\n",
       "   <a aria-label=\"YouTube\" href=\"https://www.youtube.com/channel/UC0yGgG_Jj4cUa8kdv_J5n2w \" rel=\"noopener noreferrer\" target=\"_blank\"><i aria-hidden=\"true\" class=\"fab fa-youtube\" title=\"YouTube\"></i></a>,\n",
       "   <a aria-label=\"Instagram\" href=\"https://www.instagram.com/nelsonalarcon74/ \" rel=\"noopener noreferrer\" target=\"_blank\"><i aria-hidden=\"true\" class=\"fab fa-instagram\" title=\"Instagram\"></i></a>]},\n",
       " {'photo': '/images/Candidatos_2022/senado/20.jpg',\n",
       "  'description': 'Nació en Pereira en 1946, el cuarto de once hermanos, en la época de la Violencia… cuando liberales y conservadores se mataban. Por eso desde pequeño sabe que lo más importante para el país es que las personas aprendamos a convivir, a dignificar la existencia humana.',\n",
       "  'redes': [<a aria-label=\"Facebook\" href=\"https://www.facebook.com/IvanMarulandaGomez\" rel=\"noopener noreferrer\" target=\"_blank\"><i aria-hidden=\"true\" class=\"fab fa-facebook-f\" title=\"Facebook\"></i></a>,\n",
       "   <a aria-label=\"Twitter\" href=\"https://twitter.com/ivanmarulanda\" rel=\"noopener noreferrer\" target=\"_blank\"><i aria-hidden=\"true\" class=\"fab fa-twitter\" title=\"Twitter\"></i></a>,\n",
       "   <a aria-label=\"YouTube\" href=\"https://www.youtube.com/c/IvánMarulandaGomezCo \" rel=\"noopener noreferrer\" target=\"_blank\"><i aria-hidden=\"true\" class=\"fab fa-youtube\" title=\"YouTube\"></i></a>,\n",
       "   <a aria-label=\"Instagram\" href=\"https://www.instagram.com/ivanmarulandagomez/ \" rel=\"noopener noreferrer\" target=\"_blank\"><i aria-hidden=\"true\" class=\"fab fa-instagram\" title=\"Instagram\"></i></a>]},\n",
       " {'photo': '/images/Candidatos_2022/senado/22.jpg',\n",
       "  'description': 'Miembro de la Comisión Segunda del Senado y Co-Presidente de la Comisión de Paz. Sociólogo, Magíster en Desarrollo Regional de la Universidad de Los Andes y Doctor en Gobierno y Administración Pública de la Universidad Complutense de Madrid. Fue Concejal de Bogotá de 2008 a diciembre de 2017.',\n",
       "  'redes': [<a aria-label=\"Facebook\" href=\"https://www.facebook.com/antonio.sanguino.79 \" rel=\"noopener noreferrer\" target=\"_blank\"><i aria-hidden=\"true\" class=\"fab fa-facebook-f\" title=\"Facebook\"></i></a>,\n",
       "   <a aria-label=\"Twitter\" href=\"https://twitter.com/AntonioSanguino\" rel=\"noopener noreferrer\" target=\"_blank\"><i aria-hidden=\"true\" class=\"fab fa-twitter\" title=\"Twitter\"></i></a>,\n",
       "   <a aria-label=\"YouTube\" href=\"https://www.youtube.com/channel/UC7yjLuIJdAaJXoIRDSEChHw \" rel=\"noopener noreferrer\" target=\"_blank\"><i aria-hidden=\"true\" class=\"fab fa-youtube\" title=\"YouTube\"></i></a>,\n",
       "   <a aria-label=\"Instagram\" href=\"https://www.instagram.com/antonio_sanguino \" rel=\"noopener noreferrer\" target=\"_blank\"><i aria-hidden=\"true\" class=\"fab fa-instagram\" title=\"Instagram\"></i></a>]},\n",
       " {'photo': '/images/Candidatos_2022/senado/26.jpg',\n",
       "  'description': 'Líder ambiental de Piedecuesta, ha sido visible en el movimiento ambiental del departamento. Trabajó en la Alcaldía de Piedecuesta en la Oficina de Control Interno. Terminó materias de administración de empresas en la Universidad Cooperativa de Colombia, y es perito certificado por la Lonja de Propiedad horizontal, así como tecnólogo del Sena en mercado y venta de bienes inmuebles.',\n",
       "  'redes': [<a aria-label=\"Facebook\" href=\"https://www.facebook.com/fabiandiazcomunidad/ \" rel=\"noopener noreferrer\" target=\"_blank\"><i aria-hidden=\"true\" class=\"fab fa-facebook-f\" title=\"Facebook\"></i></a>,\n",
       "   <a aria-label=\"Twitter\" href=\"https://twitter.com/FabianDiazPlata \" rel=\"noopener noreferrer\" target=\"_blank\"><i aria-hidden=\"true\" class=\"fab fa-twitter\" title=\"Twitter\"></i></a>,\n",
       "   <a aria-label=\"Instagram\" href=\"https://instagram.com/fabiandiaz.plata \" rel=\"noopener noreferrer\" target=\"_blank\"><i aria-hidden=\"true\" class=\"fab fa-instagram\" title=\"Instagram\"></i></a>]},\n",
       " {'photo': '/images/Candidatos_2022/senado/28.jpg',\n",
       "  'description': 'Abogada de la Universidad Nacional de Colombia, trabajó con la Rama Judicial y el Acueducto de Bogotá como asesora jurídica. Actualmente es abogada militante. Literaria y novelista con publicaciones de sus escritos. Trabaja con la cultura y la comunidad en asuntos sociales.',\n",
       "  'redes': [<a aria-label=\"Facebook\" href=\"https://www.facebook.com/PartidoAlianzaVerde\" rel=\"noopener noreferrer\" target=\"_blank\"><i aria-hidden=\"true\" class=\"fab fa-facebook-f\" title=\"Facebook\"></i></a>]},\n",
       " {'photo': '/images/Candidatos_2022/senado/30.jpg',\n",
       "  'description': 'Profesional en Gobierno y Relaciones internacionales con maestría en Desarrollo Regional y dos años de experiencia en en entidades de cooperación internacional y del Estado. Enfoque de trabajo en gobernanza, construcción de paz, transparencia y equidad de género.',\n",
       "  'redes': [<a aria-label=\"Facebook\" href=\"https://www.facebook.com/Linaarangorisaralda \" rel=\"noopener noreferrer\" target=\"_blank\"><i aria-hidden=\"true\" class=\"fab fa-facebook-f\" title=\"Facebook\"></i></a>,\n",
       "   <a aria-label=\"Twitter\" href=\"https://twitter.com/linamariaarango\" rel=\"noopener noreferrer\" target=\"_blank\"><i aria-hidden=\"true\" class=\"fab fa-twitter\" title=\"Twitter\"></i></a>,\n",
       "   <a aria-label=\"Instagram\" href=\"https://www.instagram.com/linaarangosenadora/ \" rel=\"noopener noreferrer\" target=\"_blank\"><i aria-hidden=\"true\" class=\"fab fa-instagram\" title=\"Instagram\"></i></a>]},\n",
       " {'photo': '/images/Candidatos_2022/senado/32.jpg',\n",
       "  'description': 'Activista estudiantil vinculado a las luchas agrarias de los campesinos por la tierra para quien la trabaja de la ANUC línea Sincelejo. Fundador de la Asociación de adjudicatarios de vivienda del ICT y UPAC, fue su Presidente, Miembro destacado del Consejo Nacional de los pueblos cívicos comunales y la Coordinadora de Vivienda Popular en los años 1980. Líder sindical de la subdirectiva sindical de Telecom en Montería Córdoba, Miembro vicepresidente de  Consejo de planeación territorial del Atlántico en la primera generación de consejeros con el nacimiento de la ley de participación territorial. ',\n",
       "  'redes': [<a aria-label=\"Facebook\" href=\"https://www.facebook.com/PartidoAlianzaVerde/\" rel=\"noopener noreferrer\" target=\"_blank\"><i aria-hidden=\"true\" class=\"fab fa-facebook-f\" title=\"Facebook\"></i></a>]},\n",
       " {'photo': '/images/Candidatos_2022/senado/34.jpg',\n",
       "  'description': 'Abogado de la Universidad de los Andes, especialista en Estado, Políticas públicas y Desarrollo. Activista social y medio ambiental. Autor del libro titulado “Agua” fiel creyente de los cambios a través del proceso democrático y participativo, basado en los principios progresistas.',\n",
       "  'redes': [<a aria-label=\"Facebook\" href=\"https://www.facebook.com/Frankcanossa \" rel=\"noopener noreferrer\" target=\"_blank\"><i aria-hidden=\"true\" class=\"fab fa-facebook-f\" title=\"Facebook\"></i></a>,\n",
       "   <a aria-label=\"Twitter\" href=\"/ https://twitter.com/canossafrank \" rel=\"noopener noreferrer\" target=\"_blank\"><i aria-hidden=\"true\" class=\"fab fa-twitter\" title=\"Twitter\"></i></a>,\n",
       "   <a aria-label=\"Instagram\" href=\"https://www.instagram.com/canossafrank/ \" rel=\"noopener noreferrer\" target=\"_blank\"><i aria-hidden=\"true\" class=\"fab fa-instagram\" title=\"Instagram\"></i></a>]},\n",
       " {'photo': '/images/Candidatos_2022/senado/36.jpg',\n",
       "  'description': 'Abogado de la Universidad de los Andes, Especialista en Derecho, Magíster en Educación y en Derecho, Doctor en Derecho (PDH). INVESTIGADOR SENIOR RECONOCIDO POR MIN CIENCIAS. AUTOR DE DIFERENTES LIBROS EN ÁREAS EDUCATIVAS Y JURÍDICAS.',\n",
       "  'redes': [<a aria-label=\"Facebook\" href=\"https://www.facebook.com/js.perilla117\" rel=\"noopener noreferrer\" target=\"_blank\"><i aria-hidden=\"true\" class=\"fab fa-facebook-f\" title=\"Facebook\"></i></a>,\n",
       "   <a aria-label=\"Twitter\" href=\"https://twitter.com/juansperilla \" rel=\"noopener noreferrer\" target=\"_blank\"><i aria-hidden=\"true\" class=\"fab fa-twitter\" title=\"Twitter\"></i></a>,\n",
       "   <a aria-label=\"Instagram\" href=\"https://www.instagram.com/juansperilla/ \" rel=\"noopener noreferrer\" target=\"_blank\"><i aria-hidden=\"true\" class=\"fab fa-instagram\" title=\"Instagram\"></i></a>]},\n",
       " {'photo': '/images/Candidatos_2022/senado/38.jpg',\n",
       "  'description': 'Secretario de Educación del Departamento de Bolívar. -Primer Secretario de Educación del Distrito de Cartagena. Gobernador del Departamento de Bolívar, por elección popular. -Presidente del Consejo Superior de la Universidad de Cartagena. -Docente Especial Tiempo Completo- Escuela Superior de Administración Pública-ESAP. ',\n",
       "  'redes': [<a aria-label=\"Facebook\" href=\"/www.facebook.com/luis.d.sanchez.16\" rel=\"noopener noreferrer\" target=\"_blank\"><i aria-hidden=\"true\" class=\"fab fa-facebook-f\" title=\"Facebook\"></i></a>,\n",
       "   <a aria-label=\"Twitter\" href=\"https://twitter.com/LuisDanieVargas\" rel=\"noopener noreferrer\" target=\"_blank\"><i aria-hidden=\"true\" class=\"fab fa-twitter\" title=\"Twitter\"></i></a>,\n",
       "   <a aria-label=\"Instagram\" href=\"https://www.instagram.com/luisdvargass/\" rel=\"noopener noreferrer\" target=\"_blank\"><i aria-hidden=\"true\" class=\"fab fa-instagram\" title=\"Instagram\"></i></a>]},\n",
       " {'photo': '/images/Candidatos_2022/senado/40.jpg',\n",
       "  'description': 'Nacido en Samaná Caldas, estudió economía y comercio exterior en la Universidad de los Libertadores. Empresario enfocado en el sector inmobiliario.  Su apuesta está centrada en el sector campo.',\n",
       "  'redes': [<a aria-label=\"Facebook\" href=\"https://www.facebook.com/JorgeELondonoU/\" rel=\"noopener noreferrer\" target=\"_blank\"><i aria-hidden=\"true\" class=\"fab fa-facebook-f\" title=\"Facebook\"></i></a>,\n",
       "   <a aria-label=\"Twitter\" href=\"https://twitter.com/JorgeELondonoU\" rel=\"noopener noreferrer\" target=\"_blank\"><i aria-hidden=\"true\" class=\"fab fa-twitter\" title=\"Twitter\"></i></a>,\n",
       "   <a aria-label=\"YouTube\" href=\"https://youtube.com/user/JorgeLondonoUlloa\" rel=\"noopener noreferrer\" target=\"_blank\"><i aria-hidden=\"true\" class=\"fab fa-youtube\" title=\"YouTube\"></i></a>,\n",
       "   <a aria-label=\"Instagram\" href=\"http://instagram.com/jorgeelondonou\" rel=\"noopener noreferrer\" target=\"_blank\"><i aria-hidden=\"true\" class=\"fab fa-instagram\" title=\"Instagram\"></i></a>]},\n",
       " {'photo': '/images/Candidatos_2022/senado/42.jpg',\n",
       "  'description': 'Bogotana, Abogada defensora de los derechos humanos, de la inclusión y diversidad, de los animales y el medio ambiente. Abogada litigante. Experiencia en Secretaría General de la Contraloría de  Cundinamarca, Personera Delegada para Protección a Víctimas, Personera Delegada para Seguridad y Convivencia, Directora y Subdirectora del Proceso de Responsabilidad Fiscal y Cobro Coactivo de la Contraloría de Bogotá.',\n",
       "  'redes': [<a aria-label=\"Facebook\" href=\"https://www.facebook.com/PartidoAlianzaVerde/\" rel=\"noopener noreferrer\" target=\"_blank\"><i aria-hidden=\"true\" class=\"fab fa-facebook-f\" title=\"Facebook\"></i></a>]},\n",
       " {'photo': '/images/Candidatos_2022/senado/44.jpg',\n",
       "  'description': 'Soy filósofa de la Universidad del Valle con Maestría en Estudios Políticos de la U. Javeriana, he ejercido la cátedra universitaria. Tengo una larga trayectoria como defensora de Derechos Humanos, y he desplegado un rico liderazgo social que me ha llevado a hacer contribuciones significativas al lado de los movimientos sociales y las víctimas del conflicto social y armado.',\n",
       "  'redes': [<a aria-label=\"Facebook\" href=\"https://www.facebook.com/liliasolanor\" rel=\"noopener noreferrer\" target=\"_blank\"><i aria-hidden=\"true\" class=\"fab fa-facebook-f\" title=\"Facebook\"></i></a>,\n",
       "   <a aria-label=\"Twitter\" href=\"https://twitter.com/liliasolanor \" rel=\"noopener noreferrer\" target=\"_blank\"><i aria-hidden=\"true\" class=\"fab fa-twitter\" title=\"Twitter\"></i></a>,\n",
       "   <a aria-label=\"YouTube\" href=\"https://www.youtube.com/channel/UCv9HqVyXEOHWXmkwFINOOeA\" rel=\"noopener noreferrer\" target=\"_blank\"><i aria-hidden=\"true\" class=\"fab fa-youtube\" title=\"YouTube\"></i></a>,\n",
       "   <a aria-label=\"Instagram\" href=\"https://www.instagram.com/liliasolanor/\" rel=\"noopener noreferrer\" target=\"_blank\"><i aria-hidden=\"true\" class=\"fab fa-instagram\" title=\"Instagram\"></i></a>]},\n",
       " {'photo': '/images/Candidatos_2022/senado/48.jpg',\n",
       "  'description': 'Economista, magíster en gobierno. Reconocido por su sentido social, responsable, honesto, innovador, creativo y social. Ha desarrollado proyectos comunitarios y gobernabilidad en más de 43 consejos comunitarios en el territorio ancestral del norte del Cauca.',\n",
       "  'redes': [<a aria-label=\"Facebook\" href=\"https://www.facebook.com/victorhugomorenom\" rel=\"noopener noreferrer\" target=\"_blank\"><i aria-hidden=\"true\" class=\"fab fa-facebook-f\" title=\"Facebook\"></i></a>,\n",
       "   <a aria-label=\"Twitter\" href=\"https://twitter.com/VictorMorenoMin\" rel=\"noopener noreferrer\" target=\"_blank\"><i aria-hidden=\"true\" class=\"fab fa-twitter\" title=\"Twitter\"></i></a>,\n",
       "   <a aria-label=\"YouTube\" href=\"https://www.youtube.com/channel/UCYM3_NTBTRheRYsJd2cLMgw\" rel=\"noopener noreferrer\" target=\"_blank\"><i aria-hidden=\"true\" class=\"fab fa-youtube\" title=\"YouTube\"></i></a>]},\n",
       " {'photo': '/images/Candidatos_2022/senado/52.jpg',\n",
       "  'description': 'Empresaria, consultora organizacional en procesos de transformación. Víctima del atentado de las Farc al Club El Nogal. Incapacitada durante 8+años. Fui mi propio laboratorio de Perdón y Reconciliación. Ayudo a sanar corazones de víctimas y victimarios. Dirijo Encuentros Transformadores entre diversos (30años).  Pienso crear la política pública para la Transformación y Reconciliación.',\n",
       "  'redes': [<a aria-label=\"YouTube\" href=\"https://www.youtube.com/channel/UC4S3hcMJV5jq4jXEs8Ltjow/videos\" rel=\"noopener noreferrer\" target=\"_blank\"><i aria-hidden=\"true\" class=\"fab fa-youtube\" title=\"YouTube\"></i></a>,\n",
       "   <a aria-label=\"Instagram\" href=\"https://www.instagram.com/encuentrotransformador/\" rel=\"noopener noreferrer\" target=\"_blank\"><i aria-hidden=\"true\" class=\"fab fa-instagram\" title=\"Instagram\"></i></a>]},\n",
       " {'photo': '/images/Candidatos_2022/senado/54.jpg',\n",
       "  'description': 'Creador de contenido digital político, reconocido por google con la placa de oro. Activista y líder político en redes sociales.',\n",
       "  'redes': [<a aria-label=\"Facebook\" href=\"https://www.facebook.com/JotaPeHernandez\" rel=\"noopener noreferrer\" target=\"_blank\"><i aria-hidden=\"true\" class=\"fab fa-facebook-f\" title=\"Facebook\"></i></a>,\n",
       "   <a aria-label=\"Twitter\" href=\"https://twitter.com/JotaPeHernandez\" rel=\"noopener noreferrer\" target=\"_blank\"><i aria-hidden=\"true\" class=\"fab fa-twitter\" title=\"Twitter\"></i></a>,\n",
       "   <a aria-label=\"YouTube\" href=\"https://www.youtube.com/c/JotaPeHernandez\" rel=\"noopener noreferrer\" target=\"_blank\"><i aria-hidden=\"true\" class=\"fab fa-youtube\" title=\"YouTube\"></i></a>,\n",
       "   <a aria-label=\"Instagram\" href=\"https://www.instagram.com/jotapehernandez/\" rel=\"noopener noreferrer\" target=\"_blank\"><i aria-hidden=\"true\" class=\"fab fa-instagram\" title=\"Instagram\"></i></a>]},\n",
       " {'photo': '/images/Candidatos_2022/senado/56.jpg',\n",
       "  'description': 'DALIA FERNANDA PINEDA',\n",
       "  'redes': [<a aria-label=\"Twitter\" href=\"https://twitter.com/JorgeELondonoU\" rel=\"noopener noreferrer\" target=\"_blank\"><i aria-hidden=\"true\" class=\"fab fa-twitter\" title=\"Twitter\"></i></a>]},\n",
       " {'photo': '/images/Candidatos_2022/senado/58.jpg',\n",
       "  'description': 'Abogado de la Universidad de Medellín, experto en derecho civil extracontractual y de tránsito. Creador del movimiento Sí Se Puede. ',\n",
       "  'redes': [<a aria-label=\"Facebook\" href=\"https://www.facebook.com/SiSePuedeHernanEcheverri\" rel=\"noopener noreferrer\" target=\"_blank\"><i aria-hidden=\"true\" class=\"fab fa-facebook-f\" title=\"Facebook\"></i></a>,\n",
       "   <a aria-label=\"Twitter\" href=\"https://twitter.com/hernansisepuede\" rel=\"noopener noreferrer\" target=\"_blank\"><i aria-hidden=\"true\" class=\"fab fa-twitter\" title=\"Twitter\"></i></a>,\n",
       "   <a aria-label=\"YouTube\" href=\"https://www.youtube.com/channel/UCsD8WQMHxyI46Mh7AE3xHpA\" rel=\"noopener noreferrer\" target=\"_blank\"><i aria-hidden=\"true\" class=\"fab fa-youtube\" title=\"YouTube\"></i></a>,\n",
       "   <a aria-label=\"Instagram\" href=\"https://instagram.com/hernanecheverrisisepuede\" rel=\"noopener noreferrer\" target=\"_blank\"><i aria-hidden=\"true\" class=\"fab fa-instagram\" title=\"Instagram\"></i></a>]},\n",
       " {'photo': '/images/Candidatos_2022/senado/60.jpg',\n",
       "  'description': 'Ex concejal de Manizales por el Partido Alianza Verde, en donde ha liderado y tenido resultados alrededor de la defensa y protección de los animales, logrando posicionar a la ciudad de Manizales como ejemplo de región en el manejo de Fauna Doméstica.',\n",
       "  'redes': [<a aria-label=\"Facebook\" href=\"https://www.facebook.com/Hemayr.concejal \" rel=\"noopener noreferrer\" target=\"_blank\"><i aria-hidden=\"true\" class=\"fab fa-facebook-f\" title=\"Facebook\"></i></a>,\n",
       "   <a aria-label=\"Twitter\" href=\"/ https://twitter.com/Hemayr\" rel=\"noopener noreferrer\" target=\"_blank\"><i aria-hidden=\"true\" class=\"fab fa-twitter\" title=\"Twitter\"></i></a>,\n",
       "   <a aria-label=\"Instagram\" href=\"https://www.instagram.com/hemayr.senador/\" rel=\"noopener noreferrer\" target=\"_blank\"><i aria-hidden=\"true\" class=\"fab fa-instagram\" title=\"Instagram\"></i></a>]},\n",
       " {'photo': '/images/Candidatos_2022/senado/62.jpg',\n",
       "  'description': 'Representante de los Usuarios del ICETEX y líder del movimiento el ICETEX TE ARRUINA. Desde el 2013 ha investigado las anomalías del modelo de financiación y ha aunado esfuerzos en el Congreso de la República para lograr 4 leyes que podrían beneficiar a más de 800 mil usuarios.',\n",
       "  'redes': [<a aria-label=\"Facebook\" href=\"https://www.facebook.com/icetextearruina/ \" rel=\"noopener noreferrer\" target=\"_blank\"><i aria-hidden=\"true\" class=\"fab fa-facebook-f\" title=\"Facebook\"></i></a>,\n",
       "   <a aria-label=\"Twitter\" href=\"https://twitter.com/danieltorres086 \" rel=\"noopener noreferrer\" target=\"_blank\"><i aria-hidden=\"true\" class=\"fab fa-twitter\" title=\"Twitter\"></i></a>,\n",
       "   <a aria-label=\"YouTube\" href=\"https://www.youtube.com/c/ICETEXTEARRUINA \" rel=\"noopener noreferrer\" target=\"_blank\"><i aria-hidden=\"true\" class=\"fab fa-youtube\" title=\"YouTube\"></i></a>]}]"
      ]
     },
     "execution_count": 39,
     "metadata": {},
     "output_type": "execute_result"
    }
   ],
   "source": [
    "salida"
   ]
  },
  {
   "cell_type": "code",
   "execution_count": null,
   "id": "fabf06cb-85d1-47ac-b2b2-9863197657aa",
   "metadata": {},
   "outputs": [],
   "source": []
  }
 ],
 "metadata": {
  "kernelspec": {
   "display_name": "Python 3 (ipykernel)",
   "language": "python",
   "name": "python3"
  },
  "language_info": {
   "codemirror_mode": {
    "name": "ipython",
    "version": 3
   },
   "file_extension": ".py",
   "mimetype": "text/x-python",
   "name": "python",
   "nbconvert_exporter": "python",
   "pygments_lexer": "ipython3",
   "version": "3.10.2"
  }
 },
 "nbformat": 4,
 "nbformat_minor": 5
}
